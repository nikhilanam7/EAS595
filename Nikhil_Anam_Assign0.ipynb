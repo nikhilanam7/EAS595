{
 "cells": [
  {
   "cell_type": "markdown",
   "metadata": {
    "id": "AJS8jKQG_02I"
   },
   "source": [
    "<div align=\"center\"> <h3><font color='blue'>EAS 595: Fundamentals to Artificial Intelligence, Fall 2022 </font> \n",
    "<h1> Assignment 0 - Intro to Python\n",
    "\n",
    "<h2><font color='red'>Due Date: </font> September 11, Sun, 11:59pm</div>\n",
    "\n",
    "Welcome to your first EAS 595 assignment! The goal of this assignment is to sharpen your programming skills needed for this class. It is focused on familiarizing yourself with Python and main data science libraries that will be used for other assignments as well.\n",
    "We will focus on basic Python functions, explore numpy, pandas and matplotlib libraries and analyze the real-world dataset.\n",
    "\n",
    "\n",
    "### Submission\n",
    "\n",
    "All the details you need for this assignment are located within this notebook. You are expected to follow every block and complete the task within the marks ``` # BEGIN_YOUR_CODE ``` and ```# END_YOUR_CODE```,the new cells, if needed. We recommend completing the task within this .ipynb notebook, if needed you can convert it and submit as .py script. Try to make your code as clean and simple as possible and be sure to write your answers between the begin answer and end answer comments.\n",
    "\n",
    "1. Submit at **UBLearns > Assignments0**\n",
    "2. The code of your implementations should be written in Python\n",
    "3. The file must be named as YOUR_FIRST_NAME_YOUR_LAST_NAME.ipynb (e.g. Fred_Flinstone.ipynb).\n",
    "4. Your Jupyter notebook should be saved with the results.  \n",
    "6. Include all the references that have been used to complete the assignment.\n",
    "    \n",
    "### Academic Integrity\n",
    "\n",
    "This assignment must be completed individually.\n",
    "The standing policy of the Department is that all students involved in any academic integrity violation (e.g. plagiarism in any way, shape, or form) will receive an F grade for the course. The catalog describes plagiarism as “Copying or receiving material from any source and submitting that material as one’s own, without acknowledging and citing the particular debts to the source, or in any other manner representing the work of another as one’s own.”. Refer to the [Office of Academic Integrity](https://www.buffalo.edu/academic-integrity.html) for more details.\n",
    "\n",
    "\n"
   ]
  },
  {
   "cell_type": "markdown",
   "metadata": {
    "id": "C4_Rr_B3od-W"
   },
   "source": [
    "## START COMPLETING YOUR ASSIGNMENT HERE"
   ]
  },
  {
   "cell_type": "markdown",
   "metadata": {
    "id": "RiMGYifjvnmy"
   },
   "source": [
    "<a id='part1'></a>\n",
    "## Part 1 - Python Basics"
   ]
  },
  {
   "cell_type": "markdown",
   "metadata": {
    "id": "2LUCpwD6vnm1"
   },
   "source": [
    "The first part of this assignment gives you practice with python syntax. Follow the cells below for the instructions."
   ]
  },
  {
   "cell_type": "code",
   "execution_count": null,
   "metadata": {
    "id": "pYW7jZF2vnm2"
   },
   "outputs": [],
   "source": [
    "''' Hello Print a word \"Hello \" 101 times'''\n",
    "\n",
    "# BEGIN_YOUR_CODE\n",
    "\n",
    "word = \"Hello\"\n",
    "for x in range(101): #For Printing 101 times\n",
    "    print(word)\n",
    "\n",
    "# END_YOUR_CODE"
   ]
  },
  {
   "cell_type": "code",
   "execution_count": 28,
   "metadata": {
    "id": "Jo90pu7Kod-Z"
   },
   "outputs": [
    {
     "name": "stdout",
     "output_type": "stream",
     "text": [
      "0\n",
      "1\n",
      "1\n",
      "2\n",
      "3\n",
      "5\n",
      "8\n",
      "13\n",
      "21\n",
      "34\n",
      "55\n",
      "89\n"
     ]
    }
   ],
   "source": [
    "'''Fibonacci Series\n",
    "Print the first 12 Fibonacci numbers\n",
    "'''\n",
    "\n",
    "# BEGIN_YOUR_CODE\n",
    "\n",
    "fib1 = 1\n",
    "fib0 = 0\n",
    "print(fib0) #Printing first number of Fib Series\n",
    "print(fib1) #Printing second number of Fib Series\n",
    "for x in range(10):\n",
    "    x = fib0 + fib1 #Adding previous two numbers\n",
    "    fib0 = fib1 #Shifting Values for next numbers\n",
    "    fib1 = x\n",
    "    print(x) #Printing the Fibonacci Number\n",
    "\n",
    "# END_YOUR_CODE"
   ]
  },
  {
   "cell_type": "code",
   "execution_count": 29,
   "metadata": {
    "id": "eQ7SJvrLvnm5"
   },
   "outputs": [
    {
     "name": "stdout",
     "output_type": "stream",
     "text": [
      "['The Matrix Resurrections', 'The Matrix Revolutions', 'The Matrix Reloaded', 'The Matrix']\n"
     ]
    }
   ],
   "source": [
    "''' Reversing\n",
    "Reverse the order of elements in a list given below, so the output is as follows: ['The Matrix Resurrections', 'The Matrix Revolutions', 'The Matrix Reloaded', 'The Matrix']\n",
    "'''\n",
    "\n",
    "list1 = [\"The Matrix\", \"The Matrix Reloaded\", \"The Matrix Revolutions\", \"The Matrix Resurrections\"]\n",
    "\n",
    "# BEGIN_YOUR_CODE\n",
    "\n",
    "list1.reverse()# Function to reverse List\n",
    "print(list1)\n",
    "\n",
    "# END_YOUR_CODE"
   ]
  },
  {
   "cell_type": "code",
   "execution_count": 40,
   "metadata": {
    "id": "G472Jj3gvnm6"
   },
   "outputs": [
    {
     "name": "stdout",
     "output_type": "stream",
     "text": [
      "python\n"
     ]
    }
   ],
   "source": [
    "'''Concatenating strings\n",
    "Concatenate strings in a list below, so the output is as follows: \"python\"\n",
    "'''\n",
    "\n",
    "list2 = ['p', 'y', 't', 'h', 'o', 'n']\n",
    "\n",
    "# BEGIN_YOUR_CODE\n",
    "\n",
    "print(''.join(list2)) #Join function to concatenate list\n",
    "\n",
    "# END_YOUR_CODE"
   ]
  },
  {
   "cell_type": "code",
   "execution_count": 42,
   "metadata": {
    "id": "vsIKrnuFvnm7"
   },
   "outputs": [
    {
     "name": "stdout",
     "output_type": "stream",
     "text": [
      "[(0, 'Yann LeCun'), (1, 'Yoshua Bengio'), (2, 'Geoffrey Hinton'), (3, 'Fei-Fei Li'), (4, 'Andrew Ng')]\n"
     ]
    }
   ],
   "source": [
    "'''Numbering a list\n",
    "Print a numbered list of the famous AI researchers using \"enumerate()\" function\n",
    "'''\n",
    "\n",
    "researchers = ['Yann LeCun', 'Yoshua Bengio', 'Geoffrey Hinton', 'Fei-Fei Li', 'Andrew Ng']\n",
    "\n",
    "# BEGIN_YOUR_CODE\n",
    "\n",
    "print(list(enumerate(researchers))) #Enumerate function on a list\n",
    "\n",
    "# END_YOUR_CODE"
   ]
  },
  {
   "cell_type": "code",
   "execution_count": 53,
   "metadata": {
    "id": "Izsh0n6Hvnm8"
   },
   "outputs": [
    {
     "name": "stdout",
     "output_type": "stream",
     "text": [
      "(('Yann LeCun', 'Facebook'), ('Yoshua Bengio', 'Université de Montréal'), ('Geoffrey Hinton', 'University of Toronto'), ('Fei-Fei Li', 'Stanford University'), ('Andrew Ng', 'Landing AI'))\n"
     ]
    }
   ],
   "source": [
    "'''Combining lists\n",
    "Combine two lists given below using zip() fucntion and print out the result\n",
    "'''\n",
    "\n",
    "researchers = ['Yann LeCun', 'Yoshua Bengio', 'Geoffrey Hinton', 'Fei-Fei Li', 'Andrew Ng']\n",
    "work = ['Facebook', 'Université de Montréal', 'University of Toronto', 'Stanford University', 'Landing AI']\n",
    "\n",
    "# BEGIN_YOUR_CODE\n",
    "\n",
    "list = zip(researchers,work)\n",
    "print(tuple(list)) #Tuple for printing readable version\n",
    "\n",
    "# END_YOUR_CODE"
   ]
  },
  {
   "cell_type": "code",
   "execution_count": 52,
   "metadata": {
    "id": "tM242AlVvnm9",
    "scrolled": true
   },
   "outputs": [
    {
     "name": "stdout",
     "output_type": "stream",
     "text": [
      "11\n"
     ]
    },
    {
     "data": {
      "text/plain": [
       "11"
      ]
     },
     "execution_count": 52,
     "metadata": {},
     "output_type": "execute_result"
    }
   ],
   "source": [
    "''' Sum function\n",
    "Modify the function below to return a sum of a and b\n",
    "'''\n",
    "\n",
    "def add(a: int, b: int) -> int:\n",
    "    \n",
    "    # BEGIN_YOUR_CODE\n",
    "    \n",
    "    sum = a+b #Addition Operation\n",
    "    print(sum) #Prints sum when function called\n",
    "    return sum #Returns sum value\n",
    "\n",
    "add(5,6) #Calling the function\n",
    "    \n",
    "    # END_YOUR_CODE"
   ]
  },
  {
   "cell_type": "markdown",
   "metadata": {
    "id": "12yDhDMxvnnB"
   },
   "source": [
    "<a id='part2'></a>\n",
    "## Part 2 - Numpy Basics "
   ]
  },
  {
   "cell_type": "markdown",
   "metadata": {
    "id": "-JmI82NyvnnC"
   },
   "source": [
    "In this section we will explore one of the most commonly used package - Numpy. You can refer to the [Official NumPy Guide](https://numpy.org/doc/stable/)."
   ]
  },
  {
   "cell_type": "code",
   "execution_count": 66,
   "metadata": {
    "id": "CstiC-8CvnnC"
   },
   "outputs": [],
   "source": [
    "'''Import the numpy package and random\n",
    "'''\n",
    "\n",
    "# BEGIN_YOUR_CODE\n",
    "\n",
    "import numpy,random\n",
    "\n",
    "# END_YOUR_CODE"
   ]
  },
  {
   "cell_type": "code",
   "execution_count": 68,
   "metadata": {
    "id": "2Cdaj9aTvnnE"
   },
   "outputs": [
    {
     "name": "stdout",
     "output_type": "stream",
     "text": [
      "[ 4 38 22 20  2  2 47 44 47 24]\n"
     ]
    }
   ],
   "source": [
    "''' Random integers\n",
    "Create an array of random integers from 0 to 50 with the length 10 using numpy random generator\n",
    "'''\n",
    "\n",
    "# BEGIN_YOUR_CODE\n",
    "\n",
    "from numpy import random\n",
    "array = random.choice(50, size=(10)) #Choice to print array of size 10 and random for its use\n",
    "\n",
    "# END_YOUR_CODE\n",
    "\n",
    "print(array)"
   ]
  },
  {
   "cell_type": "code",
   "execution_count": 78,
   "metadata": {
    "id": "D_NEdSyVvnnF"
   },
   "outputs": [
    {
     "name": "stdout",
     "output_type": "stream",
     "text": [
      "The first 2 elements are [ 4 38] \n",
      "The last two elements are [47 24] \n",
      "Elements in the middle are [22 20  2  2 47 44].\n"
     ]
    }
   ],
   "source": [
    "''' Slicing\n",
    "Slice the above array and extract the first 2 elements, the last two elements, and all elements that are left in the middle.\n",
    "'''\n",
    "\n",
    "# BEGIN_YOUR_CODE\n",
    "\n",
    "first_two = array[0:2]\n",
    "last_two = array[-2:]\n",
    "middle = array[2:8]\n",
    "\n",
    "# END_YOUR_CODE\n",
    "\n",
    "print('The first 2 elements are {0} \\nThe last two elements are {1} \\nElements in the middle are {2}.'.format(first_two, last_two, middle))"
   ]
  },
  {
   "cell_type": "code",
   "execution_count": 102,
   "metadata": {
    "id": "0xCEUBfsod-c"
   },
   "outputs": [
    {
     "name": "stdout",
     "output_type": "stream",
     "text": [
      "Common Elements: [96]\n",
      "Unique Elements: {9, 16, 25, 30, 39, 47, 54, 60, 61, 62, 63, 72, 79, 82, 83, 87, 92, 95}\n"
     ]
    }
   ],
   "source": [
    "'''Generate two arrays of size 10 (integers randomly selected between 1 and 100). \n",
    "Print unique elements of array and common elements of both arrays separately\n",
    "'''\n",
    "\n",
    "# BEGIN_YOUR_CODE\n",
    "\n",
    "from numpy import random\n",
    "array = random.choice(100, size=(10)) #First Random Array\n",
    "array1 = random.choice(100, size=(10)) #Second Random Array\n",
    "\n",
    "print('Common Elements:',numpy.intersect1d(array,array1)) #Intersect Function to select common elements\n",
    "set1 = set(array) #Converted arrays into set to use symmetric difference\n",
    "set2 = set(array1)\n",
    "print('Unique Elements:',set1.symmetric_difference(set2)) #Symmetric Difference function to select unique elements\n",
    "\n",
    "\n",
    "# END_YOUR_CODE"
   ]
  },
  {
   "cell_type": "code",
   "execution_count": 101,
   "metadata": {
    "id": "GTPk6XwivnnG"
   },
   "outputs": [
    {
     "name": "stdout",
     "output_type": "stream",
     "text": [
      "[1 2 3 4 5 6]\n",
      "Dimension of Array: (3, 2)\n"
     ]
    }
   ],
   "source": [
    "'''Changing dimensions\n",
    "Convert a matrix below to 1D array and print its dimension\n",
    "'''\n",
    "\n",
    "A = numpy.array([[1,2], [3,4], [5,6]])\n",
    "\n",
    "# BEGIN_YOUR_CODE\n",
    "\n",
    "array = A.flatten() #Flatten function to convert 2D Array to 1D Array\n",
    "print(array)\n",
    "print('Dimension of Array:',A.shape) #Dimension of 2D Array\n",
    "\n",
    "# END_YOUR_CODE"
   ]
  },
  {
   "cell_type": "code",
   "execution_count": 104,
   "metadata": {
    "id": "ALyMwuojvnnM"
   },
   "outputs": [
    {
     "name": "stdout",
     "output_type": "stream",
     "text": [
      "\n",
      "Matrix A is \n",
      "[[0.31477397 0.62892082 0.98261655 0.0367834  0.60751546 0.62223418]\n",
      " [0.13520867 0.3486296  0.65978472 0.78539757 0.07130222 0.19144182]\n",
      " [0.51539581 0.46242437 0.7918092  0.85393072 0.46805374 0.11347553]\n",
      " [0.83995358 0.01075862 0.52617022 0.9890288  0.98703396 0.97987399]\n",
      " [0.21376914 0.57167515 0.9009088  0.05891934 0.5637381  0.46593282]] \n",
      "Matrix B is \n",
      "[[0.59867724 0.38775419 0.52866664 0.5168015  0.94790522]\n",
      " [0.0875052  0.21054909 0.33778254 0.56879458 0.08662991]\n",
      " [0.23425195 0.56516203 0.87197373 0.44247737 0.67297786]\n",
      " [0.03331556 0.64482607 0.37560513 0.83438848 0.88860103]\n",
      " [0.77723968 0.26505273 0.14302175 0.7613048  0.6436005 ]\n",
      " [0.615261   0.95744093 0.88060108 0.71605879 0.40583622]], \n",
      "Their product is \n",
      "[[1.3299087  1.59030619 1.88430883 1.89394033 1.69034662]\n",
      " [0.46538067 1.20735456 1.23833725 1.40680749 1.42387653]\n",
      " [0.99655931 1.52805224 1.60671756 2.02983612 2.16757204]\n",
      " [2.03004918 2.46287124 2.28202583 2.95134243 3.06300524]\n",
      " [1.11583575 1.34593121 1.60474146 1.64624712 1.46271906]]\n"
     ]
    }
   ],
   "source": [
    "''' Matrices\n",
    "Create two matrices A and B of size 5X6 and 6X5 respectively with random values from 0 to 1, and perform the dot product on them\n",
    "'''\n",
    "\n",
    "# BEGIN_YOUR_CODE\n",
    "\n",
    "A = numpy.random.rand(5,6) #Random array A\n",
    "B = numpy.random.rand(6,5) #Random array B\n",
    "dot_product = numpy.dot(A,B) #Dot function to perform dot product on A & B\n",
    "\n",
    "# END_YOUR_CODE\n",
    "\n",
    "print('\\nMatrix A is \\n{0} \\nMatrix B is \\n{1}, \\nTheir product is \\n{2}'.format(A, B, dot_product))"
   ]
  },
  {
   "cell_type": "code",
   "execution_count": 111,
   "metadata": {
    "id": "KVFM3ERnvnnP"
   },
   "outputs": [
    {
     "name": "stdout",
     "output_type": "stream",
     "text": [
      "\n",
      "Matrix A is \n",
      "[[5 7 4 9]\n",
      " [1 7 0 1]] \n",
      "Matrix B is \n",
      "[[3 7 1 7]\n",
      " [5 7 8 9]], \n",
      "Their element-wise multiplication is \n",
      "[[15 49  4 63]\n",
      " [ 5 49  0  9]]\n"
     ]
    }
   ],
   "source": [
    "''' Element-wise multiplication\n",
    "Define two matrices A and B 2x4 with random values from 0 to 9. Perform element-wise multiplication of Matrices A and B\n",
    "''' \n",
    "\n",
    "# BEGIN_YOUR_CODE\n",
    "\n",
    "A = numpy.random.randint(0, 10, size=(2, 4)) #Randint function to return random values in specified range\n",
    "B = numpy.random.randint(0, 10, size=(2, 4))\n",
    "multiplicaiton = numpy.multiply(A,B)\n",
    "\n",
    "# END_YOUR_CODE\n",
    "\n",
    "print('\\nMatrix A is \\n{0} \\nMatrix B is \\n{1}, \\nTheir element-wise multiplication is \\n{2}'.format(A, B, multiplicaiton))"
   ]
  },
  {
   "cell_type": "markdown",
   "metadata": {
    "id": "zGMa8NVpvnnU"
   },
   "source": [
    "<a id='part4'></a>\n",
    "##  Part 3 - Pandas Basics\n",
    "\n",
    "Some important resources:\n",
    "- Install and upload the museum.csv file \n",
    "\n",
    "- [A Pandas guide](https://pandasguide.readthedocs.io/en/latest/) covers fundamental information about the package\n",
    "\n",
    "- [Pandas Cheat Sheet](https://www.datacamp.com/community/blog/python-pandas-cheat-sheet)"
   ]
  },
  {
   "cell_type": "code",
   "execution_count": 112,
   "metadata": {
    "id": "-JA6l-hpvnnU"
   },
   "outputs": [],
   "source": [
    "'''Install and import pandas library\n",
    "'''\n",
    "\n",
    "# BEGIN_YOUR_CODE\n",
    "\n",
    "import pandas as pd\n",
    "\n",
    "# END_YOUR_CODE"
   ]
  },
  {
   "cell_type": "code",
   "execution_count": 125,
   "metadata": {
    "id": "vNYL_RNyvnnV"
   },
   "outputs": [
    {
     "name": "stdout",
     "output_type": "stream",
     "text": [
      "        Museum ID                                        Museum Name  \\\n",
      "0      8400200098                    ALASKA AVIATION HERITAGE MUSEUM   \n",
      "1      8400200117                            ALASKA BOTANICAL GARDEN   \n",
      "2      8400200153  ALASKA CHALLENGER CENTER FOR SPACE SCIENCE TEC...   \n",
      "3      8400200143                ALASKA EDUCATORS HISTORICAL SOCIETY   \n",
      "4      8400200027                             ALASKA HERITAGE MUSEUM   \n",
      "...           ...                                                ...   \n",
      "33067  8405600184                   WYOMING STATE HISTORICAL SOCIETY   \n",
      "33068  8405600061                               WYOMING STATE MUSEUM   \n",
      "33069  8405600158      WYOMING TERRITORIAL PARK HISTORIC ASSOCIATION   \n",
      "33070  8405600137                      WYOMING TRANSPORTATION MUSEUM   \n",
      "33071  8405600199                          YELLOWSTONE NATIONAL PARK   \n",
      "\n",
      "                                              Legal Name Alternate Name  \\\n",
      "0                        ALASKA AVIATION HERITAGE MUSEUM            NaN   \n",
      "1                            ALASKA BOTANICAL GARDEN INC            NaN   \n",
      "2      ALASKA CHALLENGER CENTER FOR SPACE SCIENCE TEC...            NaN   \n",
      "3                    ALASKA EDUCATORS HISTORICAL SOCIETY            NaN   \n",
      "4                        ALASKA AVIATION HERITAGE MUSEUM            NaN   \n",
      "...                                                  ...            ...   \n",
      "33067                   WYOMING STATE HISTORICAL SOCIETY            NaN   \n",
      "33068                WYOMING STATE MUSEUM VOLUNTEERS INC            NaN   \n",
      "33069  WYOMING TERRITORIAL PARK HISTORIC ASSOCIATION INC            NaN   \n",
      "33070                 WYOMING TRANSPORTATION MUSEUM CORP            NaN   \n",
      "33071                  LITTLE PEOPLE LEARNING CENTER INC            NaN   \n",
      "\n",
      "                                         Museum Type Institution Name  \\\n",
      "0                                     HISTORY MUSEUM              NaN   \n",
      "1      ARBORETUM, BOTANICAL GARDEN, OR NATURE CENTER              NaN   \n",
      "2         SCIENCE & TECHNOLOGY MUSEUM OR PLANETARIUM              NaN   \n",
      "3                              HISTORIC PRESERVATION              NaN   \n",
      "4                                     HISTORY MUSEUM              NaN   \n",
      "...                                              ...              ...   \n",
      "33067                          HISTORIC PRESERVATION              NaN   \n",
      "33068                                 GENERAL MUSEUM              NaN   \n",
      "33069                          HISTORIC PRESERVATION              NaN   \n",
      "33070                                 HISTORY MUSEUM              NaN   \n",
      "33071                          HISTORIC PRESERVATION              NaN   \n",
      "\n",
      "      Street Address (Administrative Location) City (Administrative Location)  \\\n",
      "0                             4721 AIRCRAFT DR                      ANCHORAGE   \n",
      "1                    4601 CAMPBELL AIRSTRIP RD                      ANCHORAGE   \n",
      "2                          9711 KENAI SPUR HWY                          KENAI   \n",
      "3                             214 BIRCH STREET                          KENAI   \n",
      "4                   301 W NORTHERN LIGHTS BLVD                      ANCHORAGE   \n",
      "...                                        ...                            ...   \n",
      "33067                                PO BOX 73                       SHERIDAN   \n",
      "33068                      2301 CENTRAL AVENUE                       CHEYENNE   \n",
      "33069                   1273 N 15TH ST STE 121                        LARAMIE   \n",
      "33070                               PO BOX 704                       CHEYENNE   \n",
      "33071                    NATIONAL PARK SERVICE      YELLOWSTONE NATIONAL PARK   \n",
      "\n",
      "      State (Administrative Location) Zip Code (Administrative Location)  ...  \\\n",
      "0                                  AK                              99502  ...   \n",
      "1                                  AK                              99507  ...   \n",
      "2                                  AK                              99611  ...   \n",
      "3                                  AK                              99611  ...   \n",
      "4                                  AK                              99503  ...   \n",
      "...                               ...                                ...  ...   \n",
      "33067                              WY                              82801  ...   \n",
      "33068                              WY                              82001  ...   \n",
      "33069                              WY                              82072  ...   \n",
      "33070                              WY                              82003  ...   \n",
      "33071                              WY                              82190  ...   \n",
      "\n",
      "       Latitude  Longitude Locale Code (NCES)  County Code (FIPS)  \\\n",
      "0      61.17925 -149.97254                1.0                20.0   \n",
      "1      61.16890 -149.76708                4.0                20.0   \n",
      "2      60.56149 -151.21598                3.0               122.0   \n",
      "3      60.56280 -151.26597                3.0               122.0   \n",
      "4      61.17925 -149.97254                1.0                20.0   \n",
      "...         ...        ...                ...                 ...   \n",
      "33067  44.82345 -106.87592                4.0                33.0   \n",
      "33068  41.13941 -104.81813                1.0                21.0   \n",
      "33069  41.32276 -105.57686                3.0                 1.0   \n",
      "33070  41.13010 -104.81916                1.0                21.0   \n",
      "33071  44.91303 -110.41584                4.0                29.0   \n",
      "\n",
      "      State Code (FIPS)  Region Code (AAM)  Employer ID Number  Tax Period  \\\n",
      "0                   2.0                  6           920071852    201312.0   \n",
      "1                   2.0                  6           920115504    201312.0   \n",
      "2                   2.0                  6           921761906    201312.0   \n",
      "3                   2.0                  6           920165178    201412.0   \n",
      "4                   2.0                  6           920071852    201312.0   \n",
      "...                 ...                ...                 ...         ...   \n",
      "33067              56.0                  5           836007540         NaN   \n",
      "33068              56.0                  5           237368629    201404.0   \n",
      "33069              56.0                  5           830318392    201312.0   \n",
      "33070              56.0                  5           830295570    201309.0   \n",
      "33071              56.0                  5           830249072    201312.0   \n",
      "\n",
      "          Income    Revenue  \n",
      "0       602912.0   550236.0  \n",
      "1      1379576.0  1323742.0  \n",
      "2       740030.0   729080.0  \n",
      "3            0.0        0.0  \n",
      "4       602912.0   550236.0  \n",
      "...          ...        ...  \n",
      "33067        NaN        NaN  \n",
      "33068        0.0        0.0  \n",
      "33069   208508.0    83981.0  \n",
      "33070        0.0        0.0  \n",
      "33071   127496.0   126762.0  \n",
      "\n",
      "[33072 rows x 25 columns]\n"
     ]
    }
   ],
   "source": [
    "'''Read given 'DataFile' and extract into Dataframe\n",
    "'''\n",
    "\n",
    "# BEGIN_YOUR_CODE\n",
    "\n",
    "museums_df = pd.read_csv('museums.csv', low_memory=False) #read_csv function to read csv file\n",
    "print(museums_df)\n",
    "\n",
    "# END_YOUR_CODE"
   ]
  },
  {
   "cell_type": "code",
   "execution_count": 127,
   "metadata": {
    "id": "nQhbLF7CvnnV"
   },
   "outputs": [
    {
     "data": {
      "text/html": [
       "<div>\n",
       "<style scoped>\n",
       "    .dataframe tbody tr th:only-of-type {\n",
       "        vertical-align: middle;\n",
       "    }\n",
       "\n",
       "    .dataframe tbody tr th {\n",
       "        vertical-align: top;\n",
       "    }\n",
       "\n",
       "    .dataframe thead th {\n",
       "        text-align: right;\n",
       "    }\n",
       "</style>\n",
       "<table border=\"1\" class=\"dataframe\">\n",
       "  <thead>\n",
       "    <tr style=\"text-align: right;\">\n",
       "      <th></th>\n",
       "      <th>Museum ID</th>\n",
       "      <th>Zip Code (Physical Location)</th>\n",
       "      <th>Latitude</th>\n",
       "      <th>Longitude</th>\n",
       "      <th>Locale Code (NCES)</th>\n",
       "      <th>County Code (FIPS)</th>\n",
       "      <th>State Code (FIPS)</th>\n",
       "      <th>Region Code (AAM)</th>\n",
       "      <th>Tax Period</th>\n",
       "      <th>Income</th>\n",
       "      <th>Revenue</th>\n",
       "    </tr>\n",
       "  </thead>\n",
       "  <tbody>\n",
       "    <tr>\n",
       "      <th>count</th>\n",
       "      <td>3.307200e+04</td>\n",
       "      <td>9221.000000</td>\n",
       "      <td>33007.000000</td>\n",
       "      <td>33007.000000</td>\n",
       "      <td>32995.000000</td>\n",
       "      <td>30536.000000</td>\n",
       "      <td>33071.000000</td>\n",
       "      <td>33072.000000</td>\n",
       "      <td>23280.000000</td>\n",
       "      <td>2.296100e+04</td>\n",
       "      <td>2.229000e+04</td>\n",
       "    </tr>\n",
       "    <tr>\n",
       "      <th>mean</th>\n",
       "      <td>8.403812e+09</td>\n",
       "      <td>47805.644616</td>\n",
       "      <td>38.925372</td>\n",
       "      <td>-90.816757</td>\n",
       "      <td>2.505834</td>\n",
       "      <td>85.701926</td>\n",
       "      <td>29.065828</td>\n",
       "      <td>3.670083</td>\n",
       "      <td>201347.458548</td>\n",
       "      <td>1.069682e+08</td>\n",
       "      <td>2.097605e+07</td>\n",
       "    </tr>\n",
       "    <tr>\n",
       "      <th>std</th>\n",
       "      <td>2.662542e+06</td>\n",
       "      <td>30210.265032</td>\n",
       "      <td>5.126213</td>\n",
       "      <td>16.489087</td>\n",
       "      <td>1.211841</td>\n",
       "      <td>105.668318</td>\n",
       "      <td>15.431254</td>\n",
       "      <td>1.539274</td>\n",
       "      <td>67.670742</td>\n",
       "      <td>2.509287e+09</td>\n",
       "      <td>2.485197e+08</td>\n",
       "    </tr>\n",
       "    <tr>\n",
       "      <th>min</th>\n",
       "      <td>8.400100e+09</td>\n",
       "      <td>1002.000000</td>\n",
       "      <td>0.000000</td>\n",
       "      <td>-166.541260</td>\n",
       "      <td>1.000000</td>\n",
       "      <td>1.000000</td>\n",
       "      <td>1.000000</td>\n",
       "      <td>1.000000</td>\n",
       "      <td>199906.000000</td>\n",
       "      <td>-9.230000e+02</td>\n",
       "      <td>-2.127393e+06</td>\n",
       "    </tr>\n",
       "    <tr>\n",
       "      <th>25%</th>\n",
       "      <td>8.401801e+09</td>\n",
       "      <td>20180.000000</td>\n",
       "      <td>35.567720</td>\n",
       "      <td>-97.651155</td>\n",
       "      <td>1.000000</td>\n",
       "      <td>25.000000</td>\n",
       "      <td>17.000000</td>\n",
       "      <td>2.000000</td>\n",
       "      <td>201312.000000</td>\n",
       "      <td>0.000000e+00</td>\n",
       "      <td>0.000000e+00</td>\n",
       "    </tr>\n",
       "    <tr>\n",
       "      <th>50%</th>\n",
       "      <td>8.403600e+09</td>\n",
       "      <td>47448.000000</td>\n",
       "      <td>39.831640</td>\n",
       "      <td>-86.776840</td>\n",
       "      <td>2.000000</td>\n",
       "      <td>61.000000</td>\n",
       "      <td>29.000000</td>\n",
       "      <td>4.000000</td>\n",
       "      <td>201312.000000</td>\n",
       "      <td>8.781000e+03</td>\n",
       "      <td>3.307000e+03</td>\n",
       "    </tr>\n",
       "    <tr>\n",
       "      <th>75%</th>\n",
       "      <td>8.404801e+09</td>\n",
       "      <td>74743.000000</td>\n",
       "      <td>42.237490</td>\n",
       "      <td>-77.616930</td>\n",
       "      <td>4.000000</td>\n",
       "      <td>109.000000</td>\n",
       "      <td>42.000000</td>\n",
       "      <td>5.000000</td>\n",
       "      <td>201408.000000</td>\n",
       "      <td>2.163770e+05</td>\n",
       "      <td>1.676960e+05</td>\n",
       "    </tr>\n",
       "    <tr>\n",
       "      <th>max</th>\n",
       "      <td>8.409504e+09</td>\n",
       "      <td>99901.000000</td>\n",
       "      <td>70.669760</td>\n",
       "      <td>0.000000</td>\n",
       "      <td>4.000000</td>\n",
       "      <td>840.000000</td>\n",
       "      <td>90.000000</td>\n",
       "      <td>6.000000</td>\n",
       "      <td>201504.000000</td>\n",
       "      <td>8.318144e+10</td>\n",
       "      <td>5.840349e+09</td>\n",
       "    </tr>\n",
       "  </tbody>\n",
       "</table>\n",
       "</div>"
      ],
      "text/plain": [
       "          Museum ID  Zip Code (Physical Location)      Latitude     Longitude  \\\n",
       "count  3.307200e+04                   9221.000000  33007.000000  33007.000000   \n",
       "mean   8.403812e+09                  47805.644616     38.925372    -90.816757   \n",
       "std    2.662542e+06                  30210.265032      5.126213     16.489087   \n",
       "min    8.400100e+09                   1002.000000      0.000000   -166.541260   \n",
       "25%    8.401801e+09                  20180.000000     35.567720    -97.651155   \n",
       "50%    8.403600e+09                  47448.000000     39.831640    -86.776840   \n",
       "75%    8.404801e+09                  74743.000000     42.237490    -77.616930   \n",
       "max    8.409504e+09                  99901.000000     70.669760      0.000000   \n",
       "\n",
       "       Locale Code (NCES)  County Code (FIPS)  State Code (FIPS)  \\\n",
       "count        32995.000000        30536.000000       33071.000000   \n",
       "mean             2.505834           85.701926          29.065828   \n",
       "std              1.211841          105.668318          15.431254   \n",
       "min              1.000000            1.000000           1.000000   \n",
       "25%              1.000000           25.000000          17.000000   \n",
       "50%              2.000000           61.000000          29.000000   \n",
       "75%              4.000000          109.000000          42.000000   \n",
       "max              4.000000          840.000000          90.000000   \n",
       "\n",
       "       Region Code (AAM)     Tax Period        Income       Revenue  \n",
       "count       33072.000000   23280.000000  2.296100e+04  2.229000e+04  \n",
       "mean            3.670083  201347.458548  1.069682e+08  2.097605e+07  \n",
       "std             1.539274      67.670742  2.509287e+09  2.485197e+08  \n",
       "min             1.000000  199906.000000 -9.230000e+02 -2.127393e+06  \n",
       "25%             2.000000  201312.000000  0.000000e+00  0.000000e+00  \n",
       "50%             4.000000  201312.000000  8.781000e+03  3.307000e+03  \n",
       "75%             5.000000  201408.000000  2.163770e+05  1.676960e+05  \n",
       "max             6.000000  201504.000000  8.318144e+10  5.840349e+09  "
      ]
     },
     "execution_count": 127,
     "metadata": {},
     "output_type": "execute_result"
    }
   ],
   "source": [
    "'''Provide the main statistics about the entries of the dataset (mean, std, etc.)\n",
    "'''\n",
    "\n",
    "# BEGIN_YOUR_CODE\n",
    "\n",
    "museums_df.describe() #Describe Function to list all the statistics\n",
    "\n",
    "# END_YOUR_CODE"
   ]
  },
  {
   "cell_type": "code",
   "execution_count": 225,
   "metadata": {
    "id": "JnuZGhGwvnnW"
   },
   "outputs": [
    {
     "name": "stdout",
     "output_type": "stream",
     "text": [
      "Shape: (33072, 25)\n"
     ]
    }
   ],
   "source": [
    "''' Print shape of the dataset '''\n",
    "\n",
    "# BEGIN_YOUR_CODE\n",
    "\n",
    "print('Shape:',museums_df.shape) #Shape to call the dimensions of the dataset\n",
    "\n",
    "# END_YOUR_CODE"
   ]
  },
  {
   "cell_type": "code",
   "execution_count": 139,
   "metadata": {
    "id": "nFWD5zl8vnne"
   },
   "outputs": [
    {
     "data": {
      "text/plain": [
       "Index(['Museum ID', 'Museum Name', 'Legal Name', 'Alternate Name',\n",
       "       'Museum Type', 'Institution Name',\n",
       "       'Street Address (Administrative Location)',\n",
       "       'City (Administrative Location)', 'State (Administrative Location)',\n",
       "       'Zip Code (Administrative Location)',\n",
       "       'Street Address (Physical Location)', 'City (Physical Location)',\n",
       "       'State (Physical Location)', 'Zip Code (Physical Location)',\n",
       "       'Phone Number', 'Latitude', 'Longitude', 'Locale Code (NCES)',\n",
       "       'County Code (FIPS)', 'State Code (FIPS)', 'Region Code (AAM)',\n",
       "       'Employer ID Number', 'Tax Period', 'Income', 'Revenue'],\n",
       "      dtype='object')"
      ]
     },
     "execution_count": 139,
     "metadata": {},
     "output_type": "execute_result"
    }
   ],
   "source": [
    "''' Return all the columns names'''\n",
    "\n",
    "# BEGIN_YOUR_CODE\n",
    "\n",
    "museums_df.columns #Columns to display all column names\n",
    "\n",
    "# END_YOUR_CODE"
   ]
  },
  {
   "cell_type": "code",
   "execution_count": 140,
   "metadata": {
    "id": "wUSzjQC3vnng"
   },
   "outputs": [
    {
     "name": "stdout",
     "output_type": "stream",
     "text": [
      "<class 'pandas.core.frame.DataFrame'>\n",
      "RangeIndex: 33072 entries, 0 to 33071\n",
      "Data columns (total 25 columns):\n",
      " #   Column                                    Non-Null Count  Dtype  \n",
      "---  ------                                    --------------  -----  \n",
      " 0   Museum ID                                 33072 non-null  int64  \n",
      " 1   Museum Name                               33072 non-null  object \n",
      " 2   Legal Name                                33072 non-null  object \n",
      " 3   Alternate Name                            1927 non-null   object \n",
      " 4   Museum Type                               33072 non-null  object \n",
      " 5   Institution Name                          2749 non-null   object \n",
      " 6   Street Address (Administrative Location)  33062 non-null  object \n",
      " 7   City (Administrative Location)            33072 non-null  object \n",
      " 8   State (Administrative Location)           33072 non-null  object \n",
      " 9   Zip Code (Administrative Location)        33072 non-null  object \n",
      " 10  Street Address (Physical Location)        9216 non-null   object \n",
      " 11  City (Physical Location)                  9223 non-null   object \n",
      " 12  State (Physical Location)                 9223 non-null   object \n",
      " 13  Zip Code (Physical Location)              9221 non-null   float64\n",
      " 14  Phone Number                              22932 non-null  object \n",
      " 15  Latitude                                  33007 non-null  float64\n",
      " 16  Longitude                                 33007 non-null  float64\n",
      " 17  Locale Code (NCES)                        32995 non-null  float64\n",
      " 18  County Code (FIPS)                        30536 non-null  float64\n",
      " 19  State Code (FIPS)                         33071 non-null  float64\n",
      " 20  Region Code (AAM)                         33072 non-null  int64  \n",
      " 21  Employer ID Number                        27554 non-null  object \n",
      " 22  Tax Period                                23280 non-null  float64\n",
      " 23  Income                                    22961 non-null  float64\n",
      " 24  Revenue                                   22290 non-null  float64\n",
      "dtypes: float64(9), int64(2), object(14)\n",
      "memory usage: 6.3+ MB\n"
     ]
    }
   ],
   "source": [
    "''' Return insight about index(columns) of museum.csv '''\n",
    "\n",
    "# BEGIN_YOUR_CODE\n",
    "\n",
    "museums_df.info() #info function to get insight about columns\n",
    "\n",
    "# END_YOUR_CODE"
   ]
  },
  {
   "cell_type": "code",
   "execution_count": 135,
   "metadata": {
    "id": "bOuStsmzod-f"
   },
   "outputs": [
    {
     "data": {
      "text/html": [
       "<div>\n",
       "<style scoped>\n",
       "    .dataframe tbody tr th:only-of-type {\n",
       "        vertical-align: middle;\n",
       "    }\n",
       "\n",
       "    .dataframe tbody tr th {\n",
       "        vertical-align: top;\n",
       "    }\n",
       "\n",
       "    .dataframe thead th {\n",
       "        text-align: right;\n",
       "    }\n",
       "</style>\n",
       "<table border=\"1\" class=\"dataframe\">\n",
       "  <thead>\n",
       "    <tr style=\"text-align: right;\">\n",
       "      <th></th>\n",
       "      <th>Museum ID</th>\n",
       "      <th>Museum Name</th>\n",
       "      <th>Legal Name</th>\n",
       "      <th>Alternate Name</th>\n",
       "      <th>Museum Type</th>\n",
       "      <th>Institution Name</th>\n",
       "      <th>Street Address (Administrative Location)</th>\n",
       "      <th>City (Administrative Location)</th>\n",
       "      <th>State (Administrative Location)</th>\n",
       "      <th>Zip Code (Administrative Location)</th>\n",
       "      <th>...</th>\n",
       "      <th>Latitude</th>\n",
       "      <th>Longitude</th>\n",
       "      <th>Locale Code (NCES)</th>\n",
       "      <th>County Code (FIPS)</th>\n",
       "      <th>State Code (FIPS)</th>\n",
       "      <th>Region Code (AAM)</th>\n",
       "      <th>Employer ID Number</th>\n",
       "      <th>Tax Period</th>\n",
       "      <th>Income</th>\n",
       "      <th>Revenue</th>\n",
       "    </tr>\n",
       "  </thead>\n",
       "  <tbody>\n",
       "    <tr>\n",
       "      <th>0</th>\n",
       "      <td>8400200098</td>\n",
       "      <td>ALASKA AVIATION HERITAGE MUSEUM</td>\n",
       "      <td>ALASKA AVIATION HERITAGE MUSEUM</td>\n",
       "      <td>NaN</td>\n",
       "      <td>HISTORY MUSEUM</td>\n",
       "      <td>NaN</td>\n",
       "      <td>4721 AIRCRAFT DR</td>\n",
       "      <td>ANCHORAGE</td>\n",
       "      <td>AK</td>\n",
       "      <td>99502</td>\n",
       "      <td>...</td>\n",
       "      <td>61.17925</td>\n",
       "      <td>-149.97254</td>\n",
       "      <td>1.0</td>\n",
       "      <td>20.0</td>\n",
       "      <td>2.0</td>\n",
       "      <td>6</td>\n",
       "      <td>920071852</td>\n",
       "      <td>201312.0</td>\n",
       "      <td>602912.0</td>\n",
       "      <td>550236.0</td>\n",
       "    </tr>\n",
       "    <tr>\n",
       "      <th>1</th>\n",
       "      <td>8400200117</td>\n",
       "      <td>ALASKA BOTANICAL GARDEN</td>\n",
       "      <td>ALASKA BOTANICAL GARDEN INC</td>\n",
       "      <td>NaN</td>\n",
       "      <td>ARBORETUM, BOTANICAL GARDEN, OR NATURE CENTER</td>\n",
       "      <td>NaN</td>\n",
       "      <td>4601 CAMPBELL AIRSTRIP RD</td>\n",
       "      <td>ANCHORAGE</td>\n",
       "      <td>AK</td>\n",
       "      <td>99507</td>\n",
       "      <td>...</td>\n",
       "      <td>61.16890</td>\n",
       "      <td>-149.76708</td>\n",
       "      <td>4.0</td>\n",
       "      <td>20.0</td>\n",
       "      <td>2.0</td>\n",
       "      <td>6</td>\n",
       "      <td>920115504</td>\n",
       "      <td>201312.0</td>\n",
       "      <td>1379576.0</td>\n",
       "      <td>1323742.0</td>\n",
       "    </tr>\n",
       "    <tr>\n",
       "      <th>2</th>\n",
       "      <td>8400200153</td>\n",
       "      <td>ALASKA CHALLENGER CENTER FOR SPACE SCIENCE TEC...</td>\n",
       "      <td>ALASKA CHALLENGER CENTER FOR SPACE SCIENCE TEC...</td>\n",
       "      <td>NaN</td>\n",
       "      <td>SCIENCE &amp; TECHNOLOGY MUSEUM OR PLANETARIUM</td>\n",
       "      <td>NaN</td>\n",
       "      <td>9711 KENAI SPUR HWY</td>\n",
       "      <td>KENAI</td>\n",
       "      <td>AK</td>\n",
       "      <td>99611</td>\n",
       "      <td>...</td>\n",
       "      <td>60.56149</td>\n",
       "      <td>-151.21598</td>\n",
       "      <td>3.0</td>\n",
       "      <td>122.0</td>\n",
       "      <td>2.0</td>\n",
       "      <td>6</td>\n",
       "      <td>921761906</td>\n",
       "      <td>201312.0</td>\n",
       "      <td>740030.0</td>\n",
       "      <td>729080.0</td>\n",
       "    </tr>\n",
       "    <tr>\n",
       "      <th>3</th>\n",
       "      <td>8400200143</td>\n",
       "      <td>ALASKA EDUCATORS HISTORICAL SOCIETY</td>\n",
       "      <td>ALASKA EDUCATORS HISTORICAL SOCIETY</td>\n",
       "      <td>NaN</td>\n",
       "      <td>HISTORIC PRESERVATION</td>\n",
       "      <td>NaN</td>\n",
       "      <td>214 BIRCH STREET</td>\n",
       "      <td>KENAI</td>\n",
       "      <td>AK</td>\n",
       "      <td>99611</td>\n",
       "      <td>...</td>\n",
       "      <td>60.56280</td>\n",
       "      <td>-151.26597</td>\n",
       "      <td>3.0</td>\n",
       "      <td>122.0</td>\n",
       "      <td>2.0</td>\n",
       "      <td>6</td>\n",
       "      <td>920165178</td>\n",
       "      <td>201412.0</td>\n",
       "      <td>0.0</td>\n",
       "      <td>0.0</td>\n",
       "    </tr>\n",
       "    <tr>\n",
       "      <th>4</th>\n",
       "      <td>8400200027</td>\n",
       "      <td>ALASKA HERITAGE MUSEUM</td>\n",
       "      <td>ALASKA AVIATION HERITAGE MUSEUM</td>\n",
       "      <td>NaN</td>\n",
       "      <td>HISTORY MUSEUM</td>\n",
       "      <td>NaN</td>\n",
       "      <td>301 W NORTHERN LIGHTS BLVD</td>\n",
       "      <td>ANCHORAGE</td>\n",
       "      <td>AK</td>\n",
       "      <td>99503</td>\n",
       "      <td>...</td>\n",
       "      <td>61.17925</td>\n",
       "      <td>-149.97254</td>\n",
       "      <td>1.0</td>\n",
       "      <td>20.0</td>\n",
       "      <td>2.0</td>\n",
       "      <td>6</td>\n",
       "      <td>920071852</td>\n",
       "      <td>201312.0</td>\n",
       "      <td>602912.0</td>\n",
       "      <td>550236.0</td>\n",
       "    </tr>\n",
       "    <tr>\n",
       "      <th>5</th>\n",
       "      <td>8400200096</td>\n",
       "      <td>ALASKA HISTORICAL MUSEUM</td>\n",
       "      <td>ALASKA HISTORICAL MUSEUM INC</td>\n",
       "      <td>NaN</td>\n",
       "      <td>HISTORIC PRESERVATION</td>\n",
       "      <td>NaN</td>\n",
       "      <td>1675 E 5TH AVE</td>\n",
       "      <td>ANCHORAGE</td>\n",
       "      <td>AK</td>\n",
       "      <td>99501</td>\n",
       "      <td>...</td>\n",
       "      <td>61.21785</td>\n",
       "      <td>-149.85049</td>\n",
       "      <td>1.0</td>\n",
       "      <td>20.0</td>\n",
       "      <td>2.0</td>\n",
       "      <td>6</td>\n",
       "      <td>920062352</td>\n",
       "      <td>NaN</td>\n",
       "      <td>NaN</td>\n",
       "      <td>NaN</td>\n",
       "    </tr>\n",
       "    <tr>\n",
       "      <th>6</th>\n",
       "      <td>8400200078</td>\n",
       "      <td>ALASKA JEWISH MUSEUM</td>\n",
       "      <td>ALASKA JEWISH HISTORICAL MUSEUM AND CULTURAL C...</td>\n",
       "      <td>NaN</td>\n",
       "      <td>GENERAL MUSEUM</td>\n",
       "      <td>NaN</td>\n",
       "      <td>1117 E 35TH AVE</td>\n",
       "      <td>ANCHORAGE</td>\n",
       "      <td>AK</td>\n",
       "      <td>99508</td>\n",
       "      <td>...</td>\n",
       "      <td>61.18946</td>\n",
       "      <td>-149.86071</td>\n",
       "      <td>1.0</td>\n",
       "      <td>20.0</td>\n",
       "      <td>2.0</td>\n",
       "      <td>6</td>\n",
       "      <td>711010049</td>\n",
       "      <td>201312.0</td>\n",
       "      <td>2658938.0</td>\n",
       "      <td>34374.0</td>\n",
       "    </tr>\n",
       "    <tr>\n",
       "      <th>7</th>\n",
       "      <td>8400200084</td>\n",
       "      <td>ALASKA LIGHTHOUSE ASSOCIATION</td>\n",
       "      <td>ALASKA LIGHTHOUSE ASSOCIATION</td>\n",
       "      <td>NaN</td>\n",
       "      <td>HISTORIC PRESERVATION</td>\n",
       "      <td>NaN</td>\n",
       "      <td>2116 B 2ND ST</td>\n",
       "      <td>DOUGLAS</td>\n",
       "      <td>AK</td>\n",
       "      <td>99824</td>\n",
       "      <td>...</td>\n",
       "      <td>58.28299</td>\n",
       "      <td>-134.40583</td>\n",
       "      <td>3.0</td>\n",
       "      <td>110.0</td>\n",
       "      <td>2.0</td>\n",
       "      <td>6</td>\n",
       "      <td>911833974</td>\n",
       "      <td>201312.0</td>\n",
       "      <td>16500.0</td>\n",
       "      <td>16500.0</td>\n",
       "    </tr>\n",
       "    <tr>\n",
       "      <th>8</th>\n",
       "      <td>8400200107</td>\n",
       "      <td>ALASKA MASONIC LIBRARY AND MUSEUM FOUNDATION</td>\n",
       "      <td>ALASKA MASONIC LIBRARY AND MUSEUM FOUNDATION</td>\n",
       "      <td>NaN</td>\n",
       "      <td>GENERAL MUSEUM</td>\n",
       "      <td>NaN</td>\n",
       "      <td>PO BOX 190668</td>\n",
       "      <td>ANCHORAGE</td>\n",
       "      <td>AK</td>\n",
       "      <td>99519</td>\n",
       "      <td>...</td>\n",
       "      <td>61.21833</td>\n",
       "      <td>-149.89456</td>\n",
       "      <td>1.0</td>\n",
       "      <td>20.0</td>\n",
       "      <td>2.0</td>\n",
       "      <td>6</td>\n",
       "      <td>920095561</td>\n",
       "      <td>201406.0</td>\n",
       "      <td>0.0</td>\n",
       "      <td>0.0</td>\n",
       "    </tr>\n",
       "    <tr>\n",
       "      <th>9</th>\n",
       "      <td>8400200073</td>\n",
       "      <td>ALASKA MINING HALL OF FAME FOUNDATION</td>\n",
       "      <td>ALASKA MINING HALL OF FAME FOUNDATION</td>\n",
       "      <td>NaN</td>\n",
       "      <td>HISTORY MUSEUM</td>\n",
       "      <td>NaN</td>\n",
       "      <td>PO BOX 81906</td>\n",
       "      <td>FAIRBANKS</td>\n",
       "      <td>AK</td>\n",
       "      <td>99708</td>\n",
       "      <td>...</td>\n",
       "      <td>64.85079</td>\n",
       "      <td>-147.82945</td>\n",
       "      <td>2.0</td>\n",
       "      <td>90.0</td>\n",
       "      <td>2.0</td>\n",
       "      <td>6</td>\n",
       "      <td>550819611</td>\n",
       "      <td>201412.0</td>\n",
       "      <td>184295.0</td>\n",
       "      <td>31393.0</td>\n",
       "    </tr>\n",
       "  </tbody>\n",
       "</table>\n",
       "<p>10 rows × 25 columns</p>\n",
       "</div>"
      ],
      "text/plain": [
       "    Museum ID                                        Museum Name  \\\n",
       "0  8400200098                    ALASKA AVIATION HERITAGE MUSEUM   \n",
       "1  8400200117                            ALASKA BOTANICAL GARDEN   \n",
       "2  8400200153  ALASKA CHALLENGER CENTER FOR SPACE SCIENCE TEC...   \n",
       "3  8400200143                ALASKA EDUCATORS HISTORICAL SOCIETY   \n",
       "4  8400200027                             ALASKA HERITAGE MUSEUM   \n",
       "5  8400200096                           ALASKA HISTORICAL MUSEUM   \n",
       "6  8400200078                               ALASKA JEWISH MUSEUM   \n",
       "7  8400200084                      ALASKA LIGHTHOUSE ASSOCIATION   \n",
       "8  8400200107       ALASKA MASONIC LIBRARY AND MUSEUM FOUNDATION   \n",
       "9  8400200073              ALASKA MINING HALL OF FAME FOUNDATION   \n",
       "\n",
       "                                          Legal Name Alternate Name  \\\n",
       "0                    ALASKA AVIATION HERITAGE MUSEUM            NaN   \n",
       "1                        ALASKA BOTANICAL GARDEN INC            NaN   \n",
       "2  ALASKA CHALLENGER CENTER FOR SPACE SCIENCE TEC...            NaN   \n",
       "3                ALASKA EDUCATORS HISTORICAL SOCIETY            NaN   \n",
       "4                    ALASKA AVIATION HERITAGE MUSEUM            NaN   \n",
       "5                       ALASKA HISTORICAL MUSEUM INC            NaN   \n",
       "6  ALASKA JEWISH HISTORICAL MUSEUM AND CULTURAL C...            NaN   \n",
       "7                      ALASKA LIGHTHOUSE ASSOCIATION            NaN   \n",
       "8       ALASKA MASONIC LIBRARY AND MUSEUM FOUNDATION            NaN   \n",
       "9              ALASKA MINING HALL OF FAME FOUNDATION            NaN   \n",
       "\n",
       "                                     Museum Type Institution Name  \\\n",
       "0                                 HISTORY MUSEUM              NaN   \n",
       "1  ARBORETUM, BOTANICAL GARDEN, OR NATURE CENTER              NaN   \n",
       "2     SCIENCE & TECHNOLOGY MUSEUM OR PLANETARIUM              NaN   \n",
       "3                          HISTORIC PRESERVATION              NaN   \n",
       "4                                 HISTORY MUSEUM              NaN   \n",
       "5                          HISTORIC PRESERVATION              NaN   \n",
       "6                                 GENERAL MUSEUM              NaN   \n",
       "7                          HISTORIC PRESERVATION              NaN   \n",
       "8                                 GENERAL MUSEUM              NaN   \n",
       "9                                 HISTORY MUSEUM              NaN   \n",
       "\n",
       "  Street Address (Administrative Location) City (Administrative Location)  \\\n",
       "0                         4721 AIRCRAFT DR                      ANCHORAGE   \n",
       "1                4601 CAMPBELL AIRSTRIP RD                      ANCHORAGE   \n",
       "2                      9711 KENAI SPUR HWY                          KENAI   \n",
       "3                         214 BIRCH STREET                          KENAI   \n",
       "4               301 W NORTHERN LIGHTS BLVD                      ANCHORAGE   \n",
       "5                           1675 E 5TH AVE                      ANCHORAGE   \n",
       "6                          1117 E 35TH AVE                      ANCHORAGE   \n",
       "7                            2116 B 2ND ST                        DOUGLAS   \n",
       "8                            PO BOX 190668                      ANCHORAGE   \n",
       "9                             PO BOX 81906                      FAIRBANKS   \n",
       "\n",
       "  State (Administrative Location) Zip Code (Administrative Location)  ...  \\\n",
       "0                              AK                              99502  ...   \n",
       "1                              AK                              99507  ...   \n",
       "2                              AK                              99611  ...   \n",
       "3                              AK                              99611  ...   \n",
       "4                              AK                              99503  ...   \n",
       "5                              AK                              99501  ...   \n",
       "6                              AK                              99508  ...   \n",
       "7                              AK                              99824  ...   \n",
       "8                              AK                              99519  ...   \n",
       "9                              AK                              99708  ...   \n",
       "\n",
       "   Latitude  Longitude Locale Code (NCES)  County Code (FIPS)  \\\n",
       "0  61.17925 -149.97254                1.0                20.0   \n",
       "1  61.16890 -149.76708                4.0                20.0   \n",
       "2  60.56149 -151.21598                3.0               122.0   \n",
       "3  60.56280 -151.26597                3.0               122.0   \n",
       "4  61.17925 -149.97254                1.0                20.0   \n",
       "5  61.21785 -149.85049                1.0                20.0   \n",
       "6  61.18946 -149.86071                1.0                20.0   \n",
       "7  58.28299 -134.40583                3.0               110.0   \n",
       "8  61.21833 -149.89456                1.0                20.0   \n",
       "9  64.85079 -147.82945                2.0                90.0   \n",
       "\n",
       "  State Code (FIPS)  Region Code (AAM)  Employer ID Number  Tax Period  \\\n",
       "0               2.0                  6           920071852    201312.0   \n",
       "1               2.0                  6           920115504    201312.0   \n",
       "2               2.0                  6           921761906    201312.0   \n",
       "3               2.0                  6           920165178    201412.0   \n",
       "4               2.0                  6           920071852    201312.0   \n",
       "5               2.0                  6           920062352         NaN   \n",
       "6               2.0                  6           711010049    201312.0   \n",
       "7               2.0                  6           911833974    201312.0   \n",
       "8               2.0                  6           920095561    201406.0   \n",
       "9               2.0                  6           550819611    201412.0   \n",
       "\n",
       "      Income    Revenue  \n",
       "0   602912.0   550236.0  \n",
       "1  1379576.0  1323742.0  \n",
       "2   740030.0   729080.0  \n",
       "3        0.0        0.0  \n",
       "4   602912.0   550236.0  \n",
       "5        NaN        NaN  \n",
       "6  2658938.0    34374.0  \n",
       "7    16500.0    16500.0  \n",
       "8        0.0        0.0  \n",
       "9   184295.0    31393.0  \n",
       "\n",
       "[10 rows x 25 columns]"
      ]
     },
     "execution_count": 135,
     "metadata": {},
     "output_type": "execute_result"
    }
   ],
   "source": [
    "'''Print top 10 rows of the dataset'''\n",
    "\n",
    "# BEGIN_YOUR_CODE\n",
    "\n",
    "museums_df.head(10) #Head function to call top 10 rows of the dataset\n",
    "\n",
    "# END_YOUR_CODE"
   ]
  },
  {
   "cell_type": "markdown",
   "metadata": {
    "id": "YNq5ppEGvnnh"
   },
   "source": [
    "<a id='part5'></a>\n",
    "## Matplotlib Basics"
   ]
  },
  {
   "cell_type": "markdown",
   "metadata": {
    "id": "MyidlhZlIPa2"
   },
   "source": [
    "Heatmaps are a useful plot tool which help us visualize the data density or distribution. Refer the below documentation for more details on heatmap.\n",
    "\n",
    "[Matplotlib tutorial](https://machinelearningknowledge.ai/matplotlib-heatmap-complete-tutorial-for-beginners/)\n",
    "\n",
    "**Note:** You can only use matplotlib library for the following tasks"
   ]
  },
  {
   "cell_type": "code",
   "execution_count": 142,
   "metadata": {
    "id": "bfFqEdGEvnnh"
   },
   "outputs": [],
   "source": [
    "''' Install and import matplotlib library\n",
    "'''\n",
    "\n",
    "# BEGIN_YOUR_CODE\n",
    "\n",
    "import matplotlib.pyplot as plt\n",
    "\n",
    "# END_YOUR_CODE"
   ]
  },
  {
   "cell_type": "code",
   "execution_count": 144,
   "metadata": {
    "id": "25-jR3OHstb_"
   },
   "outputs": [
    {
     "data": {
      "image/png": "[encoded data removed]",
      "text/plain": [
       "<Figure size 432x288 with 1 Axes>"
      ]
     },
     "metadata": {
      "needs_background": "light"
     },
     "output_type": "display_data"
    }
   ],
   "source": [
    "''' Heatmap\n",
    "Take any random numpy array of dimension 10x15 and plot a heatmap\n",
    "'''\n",
    "\n",
    "# BEGIN YOUR CODE\n",
    "\n",
    "array = numpy.random.random((10, 15)) #Created 10x15 numpy array\n",
    "plt.imshow(array, cmap='hot') #imshow function to plot a heatmap\n",
    "plt.show()\n",
    "\n",
    "# END YOUR CODE"
   ]
  },
  {
   "cell_type": "code",
   "execution_count": 156,
   "metadata": {
    "id": "4Q4pxeVdod-g"
   },
   "outputs": [
    {
     "data": {
      "image/png": "[encoded data removed]",
      "text/plain": [
       "<Figure size 432x288 with 1 Axes>"
      ]
     },
     "metadata": {
      "needs_background": "light"
     },
     "output_type": "display_data"
    }
   ],
   "source": [
    "'''On one graph draw two lines:\n",
    "1) Plot the function y = x^2 using lambda function y (use your code from above)\n",
    "2) A scatter plot for y = x^3 using either list comprehension or lambda function for evaluating y\n",
    "'''\n",
    "\n",
    "x = numpy.linspace(-5,5,25) \n",
    "\n",
    "# BEGIN YOUR CODE\n",
    "\n",
    "y = x**2\n",
    "plt.plot(x,y, 'r') #Plot to plot graph\n",
    "#plt.show()\n",
    "\n",
    "y1 = x**3\n",
    "plt.scatter(x,y1) #Scatter to plot scatter\n",
    "plt.show()\n",
    "\n",
    "# END YOUR CODE"
   ]
  },
  {
   "cell_type": "code",
   "execution_count": 163,
   "metadata": {
    "id": "qPNiPYxuod-g"
   },
   "outputs": [
    {
     "data": {
      "text/plain": [
       "[<matplotlib.lines.Line2D at 0x7feb66474dc0>]"
      ]
     },
     "execution_count": 163,
     "metadata": {},
     "output_type": "execute_result"
    },
    {
     "data": {
      "image/png": "[encoded data removed]",
      "text/plain": [
       "<Figure size 432x288 with 1 Axes>"
      ]
     },
     "metadata": {
      "needs_background": "light"
     },
     "output_type": "display_data"
    }
   ],
   "source": [
    "'''Draw a line for given GPAs of students [3.5, 2.3, 3.8, 2.4, 2.9, 3.3] using markers'''\n",
    "\n",
    "# BEGIN_YOUR_CODE\n",
    "\n",
    "gpa = [3.5, 2.3, 3.8, 2.4, 2.9, 3.3] #Array of student's gpa\n",
    "plt.plot(gpa, '.') #Gave '.' marker to gpa\n",
    "\n",
    "#END_YOUR_CODE"
   ]
  },
  {
   "cell_type": "code",
   "execution_count": 206,
   "metadata": {
    "id": "9Vqm26Rfod-g"
   },
   "outputs": [
    {
     "name": "stdout",
     "output_type": "stream",
     "text": [
      "HISTORIC PRESERVATION                            14861\n",
      "GENERAL MUSEUM                                    8699\n",
      "ART MUSEUM                                        3241\n",
      "HISTORY MUSEUM                                    2284\n",
      "ARBORETUM, BOTANICAL GARDEN, OR NATURE CENTER     1484\n",
      "SCIENCE & TECHNOLOGY MUSEUM OR PLANETARIUM        1081\n",
      "ZOO, AQUARIUM, OR WILDLIFE CONSERVATION            564\n",
      "CHILDREN'S MUSEUM                                  512\n",
      "NATURAL HISTORY MUSEUM                             346\n",
      "Name: Museum Type, dtype: int64\n"
     ]
    },
    {
     "data": {
      "text/plain": [
       "Text(0, 0.5, 'Count')"
      ]
     },
     "execution_count": 206,
     "metadata": {},
     "output_type": "execute_result"
    },
    {
     "data": {
      "image/png": "[encoded data removed]",
      "text/plain": [
       "<Figure size 432x288 with 1 Axes>"
      ]
     },
     "metadata": {
      "needs_background": "light"
     },
     "output_type": "display_data"
    }
   ],
   "source": [
    "''' Museum (\"museum.csv\"): total number of museums per type\n",
    "\n",
    "Plot a bar graph which shows the total number of museums in USA corresponding to the museum type\n",
    "'''\n",
    "\n",
    "# BEGIN YOUR CODE\n",
    "\n",
    "museum_type = museums_df[\"Museum Type\"].value_counts() #Sorted the data\n",
    "print(museum_type)\n",
    "graph = museum_type.plot.bar(x, y, rot=90) #Plotted Bar graph using this function\n",
    "graph.set_xlabel('Museum Type') #Set X Axis Label\n",
    "graph.set_ylabel('Count') #Set Y Axis LAbel\n",
    "\n",
    "\n",
    "# END YOUR CODE"
   ]
  },
  {
   "cell_type": "code",
   "execution_count": 227,
   "metadata": {
    "id": "yENY45pIs_S9"
   },
   "outputs": [
    {
     "name": "stdout",
     "output_type": "stream",
     "text": [
      "NY    633\n",
      "CA    620\n",
      "TX    545\n",
      "PA    423\n",
      "OH    367\n",
      "IL    332\n",
      "FL    306\n",
      "MA    301\n",
      "MI    288\n",
      "VA    282\n",
      "WI    260\n",
      "NC    252\n",
      "WA    249\n",
      "ME    215\n",
      "CO    206\n",
      "CT    194\n",
      "NJ    185\n",
      "MN    182\n",
      "IN    181\n",
      "MO    177\n",
      "MD    172\n",
      "KS    164\n",
      "TN    161\n",
      "IA    160\n",
      "GA    158\n",
      "OR    147\n",
      "AL    135\n",
      "OK    132\n",
      "KY    123\n",
      "NE    122\n",
      "NH    117\n",
      "VT    112\n",
      "SC    111\n",
      "LA    108\n",
      "AZ    107\n",
      "MT     99\n",
      "AR     97\n",
      "NM     96\n",
      "WV     69\n",
      "WY     65\n",
      "AK     60\n",
      "RI     59\n",
      "ND     57\n",
      "MS     56\n",
      "ID     55\n",
      "SD     53\n",
      "HI     51\n",
      "DC     51\n",
      "NV     46\n",
      "UT     43\n",
      "DE     39\n",
      "Name: State (Physical Location), dtype: int64\n"
     ]
    },
    {
     "data": {
      "text/plain": [
       "Text(0, 0.5, 'Count')"
      ]
     },
     "execution_count": 227,
     "metadata": {},
     "output_type": "execute_result"
    },
    {
     "data": {
      "image/png": "[encoded data removed]",
      "text/plain": [
       "<Figure size 432x288 with 1 Axes>"
      ]
     },
     "metadata": {
      "needs_background": "light"
     },
     "output_type": "display_data"
    }
   ],
   "source": [
    "''' Museum (\"museum.csv\"): total number of museums per state\n",
    "\n",
    "Plot a graph which shows the total number of museums per each state (\"State (Physical Location)\")\n",
    "'''\n",
    "# BEGIN YOUR CODE\n",
    "\n",
    "state_museums = museums_df[\"State (Physical Location)\"].value_counts() #Sorted the data\n",
    "print(state_museums)\n",
    "graph1 = state_museums.plot.bar(x, y, rot=0) #Plotted Bar graph using this function\n",
    "graph1.set_xlabel('Museums Per State') #Set X Axis Label\n",
    "graph1.set_ylabel('Count') #Set Y Axis Label\n",
    "\n",
    "# END YOUR CODE"
   ]
  },
  {
   "cell_type": "markdown",
   "metadata": {
    "id": "Oo6h1NH6R6Pq"
   },
   "source": [
    "#### Results analyzing\n",
    "\n",
    "Analyze the graph and answer the following two questions:\n",
    "\n",
    "**1) What is your inference from the above graph?**\n",
    "\n",
    "*YOUR ANSWER: That there are a lot of museums in USA* \n",
    "\n",
    "**2) Which state has the most number of museum?**\n",
    "\n",
    "*YOUR ANSWER: New York State has the most number* \n",
    "\n",
    "**3) Which is the most common type of museum?**\n",
    "\n",
    "*YOUR ANSWER: Most common is Historic Preservation* \n"
   ]
  },
  {
   "cell_type": "code",
   "execution_count": null,
   "metadata": {},
   "outputs": [],
   "source": []
  }
 ],
 "metadata": {
  "celltoolbar": "Raw Cell Format",
  "colab": {
   "collapsed_sections": [],
   "provenance": []
  },
  "kernelspec": {
   "display_name": "Python 3 (ipykernel)",
   "language": "python",
   "name": "python3"
  },
  "language_info": {
   "codemirror_mode": {
    "name": "ipython",
    "version": 3
   },
   "file_extension": ".py",
   "mimetype": "text/x-python",
   "name": "python",
   "nbconvert_exporter": "python",
   "pygments_lexer": "ipython3",
   "version": "3.9.12"
  }
 },
 "nbformat": 4,
 "nbformat_minor": 1
}
